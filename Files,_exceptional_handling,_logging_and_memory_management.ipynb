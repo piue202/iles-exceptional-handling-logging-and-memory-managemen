{
  "nbformat": 4,
  "nbformat_minor": 0,
  "metadata": {
    "colab": {
      "provenance": []
    },
    "kernelspec": {
      "name": "python3",
      "display_name": "Python 3"
    },
    "language_info": {
      "name": "python"
    }
  },
  "cells": [
    {
      "cell_type": "markdown",
      "source": [
        "# Assignment Questions"
      ],
      "metadata": {
        "id": "RlqeazzCPfF6"
      }
    },
    {
      "cell_type": "markdown",
      "source": [
        "# What is the difference between interpreted and compiled languages?\n",
        "  - The primary difference between interpreted and compiled languages lies in how the code is executed:\n",
        "\n",
        "Interpreted languages:\n",
        "\n",
        "1. Code is executed line-by-line by an interpreter at runtime.\n",
        "2. No separate compilation step is required.\n",
        "3. Examples: Python, JavaScript (in browsers), Ruby.\n",
        "\n",
        "Compiled languages:\n",
        "\n",
        "1. Code is compiled into machine code beforehand.\n",
        "2. The compiled code is then executed directly by the computer's processor.\n",
        "3. Examples: C, C++, Fortran.\n",
        "\n",
        "Key implications:\n",
        "\n",
        "- Speed: Compiled languages are generally faster since the code is already in machine code.\n",
        "- Development: Interpreted languages often provide more flexibility and faster development cycles due to the lack of a compilation step."
      ],
      "metadata": {
        "id": "CiLvnMLAPhsW"
      }
    },
    {
      "cell_type": "markdown",
      "source": [
        "# What is exception handling in Python?\n",
        "  - Exception handling in Python is a mechanism to handle runtime errors or unexpected events that occur during the execution of a program. It allows you to manage and respond to exceptions, preventing your program from crashing or producing unexpected behavior.\n"
      ],
      "metadata": {
        "id": "zQ5MvcI1P7eS"
      }
    },
    {
      "cell_type": "markdown",
      "source": [
        "# What is the purpose of the finally block in exception handling?\n",
        "  - The finally block in exception handling is used to execute code regardless of whether an exception was thrown or caught.\n",
        "\n",
        "The purpose of the finally block is to:\n",
        "\n",
        "1. Release resources: Close files, connections, or other resources that were opened.\n",
        "2. Clean up: Perform any necessary cleanup actions.\n",
        "3. Ensure execution: Run code that must be executed, even if an exception occurs.\n"
      ],
      "metadata": {
        "id": "2mmvmSDjQFD_"
      }
    },
    {
      "cell_type": "markdown",
      "source": [
        "# What is logging in Python?\n",
        "  - Logging in Python is a mechanism for tracking events that occur during the execution of a program. It allows you to record information about the program's behavior, such as errors, warnings, and debug messages.\n",
        "\n",
        "Python's built-in logging module provides a flexible logging system, enabling you to:\n",
        "\n",
        "1. Log messages at different levels (e.g., debug, info, warning, error, critical)\n",
        "2. Configure logging output (e.g., console, file, network)\n",
        "3. Customize log message formats\n"
      ],
      "metadata": {
        "id": "L2m93VIBQMsp"
      }
    },
    {
      "cell_type": "markdown",
      "source": [
        "# What is the significance of the __del__ method in Python?\n",
        "  - he __del__ method in Python is a special method that is automatically called when an object is about to be destroyed. It's also known as a destructor.\n",
        "\n",
        "The significance of the __del__ method is to:\n",
        "\n",
        "1. Release resources: Close files, connections, or other resources that the object has opened.\n",
        "2. Clean up: Perform any necessary cleanup actions to prevent memory leaks or other issues.\n"
      ],
      "metadata": {
        "id": "VB0JPtrMQVi2"
      }
    },
    {
      "cell_type": "markdown",
      "source": [
        "# What is the difference between import and from ... import in Python?\n",
        "  - The __del__ method in Python is a special method that is automatically called when an object is about to be destroyed. It's also known as a destructor.\n",
        "\n",
        "The significance of the __del__ method is to:\n",
        "\n",
        "1. Release resources: Close files, connections, or other resources that the object has opened.\n",
        "2. Clean up: Perform any necessary cleanup actions to prevent memory leaks or other issues.\n"
      ],
      "metadata": {
        "id": "VrU4pCtaQdsl"
      }
    },
    {
      "cell_type": "markdown",
      "source": [
        "# How can you handle multiple exceptions in Python?\n",
        "  - You can handle multiple exceptions in Python using:\n",
        "\n",
        "1. Multiple except blocks: Use separate except blocks for each exception type.\n",
        "2. Tuple of exceptions: Use a single except block with a tuple of exception types."
      ],
      "metadata": {
        "id": "RUlcJ-0OQkhx"
      }
    },
    {
      "cell_type": "markdown",
      "source": [
        "# What is the purpose of the with statement when handling files in Python?\n",
        "  - The with statement in Python is used to manage resources, such as files, connections, or locks, that require cleanup after use.\n",
        "\n",
        "When handling files, the with statement ensures that:\n",
        "\n",
        "1. The file is properly opened and closed.\n",
        "2. Resources are released, even if exceptions occur.\n"
      ],
      "metadata": {
        "id": "SK88UKZIQsSW"
      }
    },
    {
      "cell_type": "markdown",
      "source": [
        "# What is the difference between multithreading and multiprocessing?\n",
        "  - Multithreading and multiprocessing are both used to achieve concurrency in programming, but they differ in how they approach it:\n",
        "\n",
        "Multithreading:\n",
        "\n",
        "1. Multiple threads share the same memory space.\n",
        "2. Threads are lightweight and have less overhead.\n",
        "3. Suitable for I/O-bound tasks, such as reading/writing files or network communication.\n",
        "\n",
        "Multiprocessing:\n",
        "\n",
        "1. Multiple processes have their own separate memory spaces.\n",
        "2. Processes are heavier and have more overhead due to process creation and communication.\n",
        "3. Suitable for CPU-bound tasks, such as scientific computing, data processing, or complex calculations."
      ],
      "metadata": {
        "id": "hpzKwaneQ0JM"
      }
    },
    {
      "cell_type": "markdown",
      "source": [
        "# What are the advantages of using logging in a program?\n",
        "  - he advantages of using logging in a program include:\n",
        "\n",
        "1. Debugging: Logging helps identify and diagnose issues by providing detailed information about the program's execution.\n",
        "2. Error tracking: Logging allows you to track and analyze errors, making it easier to fix problems.\n",
        "3. Auditing: Logging provides a record of important events, which can be useful for auditing or compliance purposes.\n",
        "4. Performance monitoring: Logging can help you monitor the program's performance and identify areas for improvement.\n",
        "5. Security: Logging can help detect and respond to security incidents by providing information about suspicious activity"
      ],
      "metadata": {
        "id": "yX__A4ZGQ7J7"
      }
    },
    {
      "cell_type": "markdown",
      "source": [
        "# What is memory management in Python?\n",
        "  - Memory management in Python refers to the process of managing the memory used by Python programs. Python's memory management is handled by a private heap, which is a pool of memory that is allocated for Python's use.\n"
      ],
      "metadata": {
        "id": "MSz4UQg3RGjx"
      }
    },
    {
      "cell_type": "markdown",
      "source": [
        "# What are the basic steps involved in exception handling in Python?\n",
        "  - The basic steps involved in exception handling in Python are:\n",
        "\n",
        "1. Try: Enclose code that might raise an exception within a try block.\n",
        "2. Except: Catch and handle exceptions using except blocks.\n",
        "3. Handle: Handle the exception by providing a response or taking alternative actions.\n",
        "4. Optional: Finally: Use a finally block to execute code regardless of whether an exception occurred."
      ],
      "metadata": {
        "id": "aNBkV1pvRPI5"
      }
    },
    {
      "cell_type": "markdown",
      "source": [
        "# Why is memory management important in Python?\n",
        "  - Memory management is crucial in Python because it helps:\n",
        "\n",
        "1. Prevent memory leaks: Memory leaks can cause a program to consume increasing amounts of memory, leading to performance issues and crashes.\n",
        "2. Optimize performance: Efficient memory management ensures that Python programs run smoothly and efficiently.\n",
        "3. Avoid crashes: Memory-related issues can cause Python programs to crash or terminate unexpectedly.\n"
      ],
      "metadata": {
        "id": "BU3mXk_fRYEy"
      }
    },
    {
      "cell_type": "markdown",
      "source": [
        "# What is the role of try and except in exception handling?\n",
        "  - In exception handling, the roles of try and except are:\n",
        "\n",
        "1. Try: The try block contains code that might raise an exception. It's used to enclose code that could potentially throw an error.\n",
        "2. Except: The except block is used to catch and handle exceptions raised by the code in the try block. It provides a way to respond to and manage exceptions."
      ],
      "metadata": {
        "id": "rsdZ_sOXRngO"
      }
    },
    {
      "cell_type": "markdown",
      "source": [
        "#  How does Python's garbage collection system work?\n",
        "  - Python's garbage collection system is a memory management mechanism that automatically frees memory occupied by objects that are no longer needed. Here's how it works:\n"
      ],
      "metadata": {
        "id": "xJuu_4sMRwxH"
      }
    },
    {
      "cell_type": "markdown",
      "source": [
        "# What is the purpose of the else block in exception handling?\n",
        "  - The else block in exception handling is used to specify code that should be executed when no exception occurs in the try block.\n",
        "\n",
        "The purpose of the else block is to:\n",
        "\n",
        "1. Provide a way to execute code when the try block is successful.\n",
        "2. Separate code that should run when no exception occurs from code that handles exceptions."
      ],
      "metadata": {
        "id": "mjjlyJJdR4XI"
      }
    },
    {
      "cell_type": "markdown",
      "source": [
        "# What are the common logging levels in Python?\n",
        "  - The common logging levels in Python are:\n",
        "\n",
        "1. DEBUG: Detailed information for debugging purposes.\n",
        "2. INFO: General information about the program's execution.\n",
        "3. WARNING: Potential issues or unexpected events.\n",
        "4. ERROR: Errors that prevent normal program execution.\n",
        "5. CRITICAL: Critical errors that require immediate attention."
      ],
      "metadata": {
        "id": "Q5i4VMTeSFI4"
      }
    },
    {
      "cell_type": "markdown",
      "source": [
        "# What is the difference between os.fork() and multiprocessing in Python?\n",
        "  - os.fork() and multiprocessing are both used to create new processes in Python, but they differ in their approach:\n",
        "\n",
        "os.fork()\n",
        "1. Unix-based: os.fork() is available only on Unix-based systems.\n",
        "2. Low-level: It provides a low-level interface for creating new processes.\n",
        "3. Process duplication: os.fork() creates a new process by duplicating the parent process.\n",
        "\n",
        "multiprocessing\n",
        "1. Cross-platform: The multiprocessing module is available on multiple platforms, including Windows, macOS, and Linux.\n",
        "2. High-level: It provides a higher-level interface for creating new processes.\n",
        "3. Process creation: multiprocessing creates new processes using a more controlled and Pythonic approach."
      ],
      "metadata": {
        "id": "0mku4gc-SNTB"
      }
    },
    {
      "cell_type": "markdown",
      "source": [
        "# What is the importance of closing a file in Python0\n",
        "  - Closing a file in Python is important because it:\n",
        "\n",
        "1. Releases system resources: Closing a file releases the file descriptor and system resources associated with it.\n",
        "2. Prevents file corruption: Closing a file helps prevent data corruption or inconsistencies that can occur when multiple processes access the same file.\n",
        "3. Allows other processes to access the file: Closing a file allows other processes to access the file, which can be important in multi-process or multi-threaded environments.\n"
      ],
      "metadata": {
        "id": "MHA_j_4jSZ7F"
      }
    },
    {
      "cell_type": "markdown",
      "source": [
        "# What is the difference between file.read() and file.readline() in Python?\n",
        "  - In Python, file.read() and file.readline() are two different methods used to read from a file:\n",
        "\n",
        "file.read()\n",
        "1. Reads entire file: file.read() reads the entire contents of the file into a string.\n",
        "2. Returns a string: It returns a string containing the entire file contents.\n",
        "\n",
        "file.readline()\n",
        "1. Reads a single line: file.readline() reads a single line from the file into a string.\n",
        "2. Returns a string: It returns a string containing the line read from the file."
      ],
      "metadata": {
        "id": "UDmUIdwjUY2f"
      }
    },
    {
      "cell_type": "markdown",
      "source": [
        "# What is the logging module in Python used for?\n",
        "  - The logging module in Python is used for:\n",
        "\n",
        "1. Logging events: It allows you to log events in your program, such as errors, warnings, and informational messages.\n",
        "2. Debugging: Logging can help you debug your program by providing detailed information about its execution.\n",
        "3. Auditing: Logging can be used to track important events in your program, such as user actions or changes to data."
      ],
      "metadata": {
        "id": "_Ra54ojCUoj8"
      }
    },
    {
      "cell_type": "markdown",
      "source": [
        "# What is the os module in Python used for in file handling?\n",
        "  - The os module in Python provides a way to interact with the operating system and perform various file-related operations. Some common uses of the os module in file handling include:\n",
        "\n",
        "1. Working with directories: os.mkdir(), os.rmdir(), os.chdir(), and os.getcwd() can be used to create, remove, change, and get the current working directory.\n",
        "2. Working with files: os.rename(), os.remove(), and os.listdir() can be used to rename, remove, and list files in a directory.\n",
        "3. Checking file existence: os.path.exists() can be used to check if a file or directory exists.\n",
        "4. Getting file information: os.path.getsize() and os.path.getmtime() can be used to get the size and last modification time of a file."
      ],
      "metadata": {
        "id": "dLQpwqvBUwBx"
      }
    },
    {
      "cell_type": "markdown",
      "source": [
        "# What are the challenges associated with memory management in Python?\n",
        "  - Some challenges associated with memory management in Python include:\n",
        "\n",
        "1. Memory leaks: Memory leaks can occur when objects are no longer needed but still occupy memory.\n",
        "2. Performance issues: Inefficient memory management can lead to performance issues, such as slow execution or increased memory usage.\n",
        "3. Garbage collection overhead: Python's garbage collector can introduce overhead, especially for large or complex applications.\n",
        "4. Memory fragmentation: Memory fragmentation can occur when free memory is broken into small, non-contiguous blocks, making it difficult to allocate large blocks of memory.\n"
      ],
      "metadata": {
        "id": "iRLchHNoU46a"
      }
    },
    {
      "cell_type": "markdown",
      "source": [
        "#  How do you raise an exception manually in Python?\n",
        "  - You can raise an exception manually in Python using the raise keyword."
      ],
      "metadata": {
        "id": "Kvkax2c1VAU5"
      }
    },
    {
      "cell_type": "markdown",
      "source": [
        "# Why is it important to use multithreading in certain applications?\n",
        "  - ultithreading is important in certain applications because it allows for:\n",
        "\n",
        "1. Improved responsiveness: Multithreading can improve the responsiveness of an application by allowing it to perform multiple tasks concurrently.\n",
        "2. Increased throughput: Multithreading can increase the throughput of an application by utilizing multiple CPU cores.\n",
        "3. Efficient resource utilization: Multithreading can efficiently utilize system resources, such as memory and I/O devices.\n",
        "\n",
        "Multithreading is particularly useful in applications that:\n",
        "\n",
        "1. Perform multiple tasks concurrently: Such as web servers, database servers, and GUI applications.\n",
        "2. Have high computational requirements: Such as scientific simulations, data processing, and machine learning.\n",
        "3. Require efficient resource utilization: Such as embedded systems, mobile devices, and real-time systems"
      ],
      "metadata": {
        "id": "9yBsDk0hVHR3"
      }
    },
    {
      "cell_type": "markdown",
      "source": [
        "# Practical Questions"
      ],
      "metadata": {
        "id": "mZsbkwKfVULQ"
      }
    },
    {
      "cell_type": "code",
      "source": [
        "# How can you open a file for writing in Python and write a string to it?\n",
        "\n",
        "# Open the file for writing\n",
        "with open('example.txt', 'w') as file:\n",
        "    # Write a string to the file\n",
        "    file.write('Hello, world!')\n"
      ],
      "metadata": {
        "id": "NVmWO3uQVWwd"
      },
      "execution_count": 1,
      "outputs": []
    },
    {
      "cell_type": "code",
      "source": [
        "#  Write a Python program to read the contents of a file and print each line.\n",
        "# Open the file in read mode\n",
        "# Check if the file exists first. If it doesn't print an informative message.\n",
        "import os\n",
        "\n",
        "if os.path.exists('output.txt'):\n",
        "    with open('output.txt', 'r') as file:\n",
        "        # Loop through each line in the file\n",
        "        for line in file:\n",
        "            # Print the line (it already includes a newline character)\n",
        "            print(line, end='')  # 'end' is used to avoid adding extra newlines\n",
        "else:\n",
        "    print(\"The file 'output.txt' was not found in the current directory.\")"
      ],
      "metadata": {
        "colab": {
          "base_uri": "https://localhost:8080/"
        },
        "id": "aDPsjCi9WBKP",
        "outputId": "b6abfb95-d3a7-45a1-cf0e-324aedcaa79c"
      },
      "execution_count": 3,
      "outputs": [
        {
          "output_type": "stream",
          "name": "stdout",
          "text": [
            "The file 'output.txt' was not found in the current directory.\n"
          ]
        }
      ]
    },
    {
      "cell_type": "code",
      "source": [
        "# How would you handle a case where the file doesn't exist while trying to open it for reading?\n",
        "try: # Removed extra indentation\n",
        "    # Try to open the file for reading\n",
        "    with open('output.txt', 'r') as file:\n",
        "        for line in file:\n",
        "            print(line, end='')\n",
        "except FileNotFoundError:\n",
        "    # Handle the case where the file doesn't exist\n",
        "    print(\"The file was not found.\")"
      ],
      "metadata": {
        "colab": {
          "base_uri": "https://localhost:8080/"
        },
        "id": "N5AVLXVkWh1G",
        "outputId": "59737531-f86a-49f5-a6a9-5c279837558b"
      },
      "execution_count": 5,
      "outputs": [
        {
          "output_type": "stream",
          "name": "stdout",
          "text": [
            "The file was not found.\n"
          ]
        }
      ]
    },
    {
      "cell_type": "code",
      "source": [
        "# Write a Python script that reads from one file and writes its content to another file.\n",
        "  # File names\n",
        "source_file = 'input.txt'\n",
        "destination_file = 'output.txt'\n",
        "\n",
        "try:\n",
        "    # Open the source file for reading\n",
        "    with open(source_file, 'r') as src:\n",
        "        # Read the entire content\n",
        "        content = src.read()\n",
        "\n",
        "    # Open the destination file for writing\n",
        "    with open(destination_file, 'w') as dest:\n",
        "        # Write the content to the destination file\n",
        "        dest.write(content)\n",
        "\n",
        "    print(f\"Content copied from {source_file} to {destination_file} successfully.\")\n",
        "\n",
        "except FileNotFoundError:\n",
        "    print(f\"The file {source_file} was not found.\")\n",
        "except Exception as e:\n",
        "    print(f\"An error occurred: {e}\")\n"
      ],
      "metadata": {
        "colab": {
          "base_uri": "https://localhost:8080/"
        },
        "id": "lbYJoBUwWlcv",
        "outputId": "54cea255-3bbf-4661-d4c2-f91e815204be"
      },
      "execution_count": 6,
      "outputs": [
        {
          "output_type": "stream",
          "name": "stdout",
          "text": [
            "The file input.txt was not found.\n"
          ]
        }
      ]
    },
    {
      "cell_type": "code",
      "source": [
        "# How would you catch and handle division by zero error in Python?\n",
        "try: # Removed extra indentation here\n",
        "    # Attempt a division\n",
        "    result = 10 / 0\n",
        "    print(\"Result:\", result)\n",
        "except ZeroDivisionError:\n",
        "    # Handle the division by zero error\n",
        "    print(\"Error: You can't divide by zero!\")"
      ],
      "metadata": {
        "colab": {
          "base_uri": "https://localhost:8080/"
        },
        "id": "QTw1qS59XGin",
        "outputId": "774c0ed2-e1c6-494b-86a1-8c90231f636c"
      },
      "execution_count": 8,
      "outputs": [
        {
          "output_type": "stream",
          "name": "stdout",
          "text": [
            "Error: You can't divide by zero!\n"
          ]
        }
      ]
    },
    {
      "cell_type": "code",
      "source": [
        "# Write a Python program that logs an error message to a log file when a division by zero exception occurs.\n",
        "import logging # Removed extra indentation\n",
        "\n",
        "# Configure logging to write to a file\n",
        "logging.basicConfig(filename='error.log', level=logging.ERROR,\n",
        "                    format='%(asctime)s - %(levelname)s - %(message)s')\n",
        "\n",
        "try:\n",
        "    # Example division operation\n",
        "    a = 10\n",
        "    b = 0\n",
        "    result = a / b\n",
        "except ZeroDivisionError as e:\n",
        "    # Log the error message to the file\n",
        "    logging.error(\"Attempted to divide by zero. Details: %s\", e)\n",
        "    print(\"An error occurred. Check 'error.log' for details.\")"
      ],
      "metadata": {
        "colab": {
          "base_uri": "https://localhost:8080/"
        },
        "id": "UP35UfYeXLyp",
        "outputId": "02cbef46-9cda-4cb8-d5f4-d8ca7ad1ae21"
      },
      "execution_count": 10,
      "outputs": [
        {
          "output_type": "stream",
          "name": "stderr",
          "text": [
            "ERROR:root:Attempted to divide by zero. Details: division by zero\n"
          ]
        },
        {
          "output_type": "stream",
          "name": "stdout",
          "text": [
            "An error occurred. Check 'error.log' for details.\n"
          ]
        }
      ]
    },
    {
      "cell_type": "code",
      "source": [
        "# F How do you log information at different levels (INFO, ERROR, WARNING) in Python using the logging module?\n",
        "import logging\n",
        "\n",
        "# Set up logging configuration\n",
        "logging.basicConfig(\n",
        "    filename='app.log',           # Log file name\n",
        "    level=logging.DEBUG,          # Minimum level to log\n",
        "    format='%(asctime)s - %(levelname)s - %(message)s'\n",
        ")\n",
        "\n",
        "# Log messages at different levels\n",
        "logging.debug(\"This is a debug message\")      # Used for detailed debugging info\n",
        "logging.info(\"This is an info message\")       # General information\n",
        "logging.warning(\"This is a warning message\")  # Warning about something unexpected\n",
        "logging.error(\"This is an error message\")     # An error occurred\n",
        "logging.critical(\"This is a critical message\")# Serious error, program may not continue"
      ],
      "metadata": {
        "colab": {
          "base_uri": "https://localhost:8080/"
        },
        "id": "6kfFhp-_XYZK",
        "outputId": "7d3bf2e6-453c-4de1-b076-ff237753cccf"
      },
      "execution_count": 12,
      "outputs": [
        {
          "output_type": "stream",
          "name": "stderr",
          "text": [
            "WARNING:root:This is a warning message\n",
            "ERROR:root:This is an error message\n",
            "CRITICAL:root:This is a critical message\n"
          ]
        }
      ]
    },
    {
      "cell_type": "code",
      "source": [
        "# Write a program to handle a file opening error using exception handling.\n",
        " # File to open\n",
        "filename = 'non_existent_file.txt'\n",
        "\n",
        "try:\n",
        "    # Try to open the file\n",
        "    with open(filename, 'r') as file:\n",
        "        content = file.read()\n",
        "        print(\"File content:\")\n",
        "        print(content)\n",
        "\n",
        "except FileNotFoundError:\n",
        "    print(f\"Error: The file '{filename}' was not found.\")\n",
        "\n",
        "except PermissionError:\n",
        "    print(f\"Error: You do not have permission to open '{filename}'.\")\n",
        "\n",
        "except Exception as e:\n",
        "    # Catch-all for any other exceptions\n",
        "    print(f\"An unexpected error occurred: {e}\")\n"
      ],
      "metadata": {
        "colab": {
          "base_uri": "https://localhost:8080/"
        },
        "id": "NMJaGSOwX5ZT",
        "outputId": "23ecd864-c770-4384-fc08-1cc68fcee9d7"
      },
      "execution_count": 13,
      "outputs": [
        {
          "output_type": "stream",
          "name": "stdout",
          "text": [
            "Error: The file 'non_existent_file.txt' was not found.\n"
          ]
        }
      ]
    },
    {
      "cell_type": "code",
      "source": [
        "# How can you read a file line by line and store its content in a list in Python?\n",
        " # Open the file in read mode\n",
        "with open('example.txt', 'r') as file:\n",
        "    # Read each line and store it in a list\n",
        "    lines = file.readlines()\n",
        "\n",
        "# Print the list\n",
        "print(lines)\n"
      ],
      "metadata": {
        "colab": {
          "base_uri": "https://localhost:8080/"
        },
        "id": "P78RdSldYLK6",
        "outputId": "77d0a6bb-3347-4fea-d23b-df724eca2849"
      },
      "execution_count": 14,
      "outputs": [
        {
          "output_type": "stream",
          "name": "stdout",
          "text": [
            "['Hello, world!']\n"
          ]
        }
      ]
    },
    {
      "cell_type": "code",
      "source": [
        "# How can you append data to an existing file in Python?\n",
        "with open('example.txt', 'a+') as file:\n",
        "    file.write('New data to append')\n",
        "    file.seek(0)\n",
        "    contents = file.read()\n",
        "    print(contents)"
      ],
      "metadata": {
        "colab": {
          "base_uri": "https://localhost:8080/"
        },
        "id": "fKV0wXNpYS6T",
        "outputId": "8d8cda53-624e-4e02-fc1c-52688f96627d"
      },
      "execution_count": 17,
      "outputs": [
        {
          "output_type": "stream",
          "name": "stdout",
          "text": [
            "Hello, world!\n",
            "Appended text goes here.New data to append\n"
          ]
        }
      ]
    },
    {
      "cell_type": "code",
      "source": [
        "# Write a Python program that uses a try-except block to handle an error when attempting to access a\n",
        "# dictionary key that doesn't exist.\n",
        "# Sample dictionary\n",
        "person = {\n",
        "    'name': 'Alice',\n",
        "    'age': 30\n",
        "}\n",
        "\n",
        "try:\n",
        "    # Try to access a key that may not exist\n",
        "    print(\"Email:\", person['email'])\n",
        "\n",
        "except KeyError:\n",
        "    # Handle the missing key error\n",
        "    print(\"Error: The key 'email' does not exist in the dictionary.\")\n",
        "# Write a Python program that uses"
      ],
      "metadata": {
        "colab": {
          "base_uri": "https://localhost:8080/"
        },
        "id": "eEOr7ykYYoTJ",
        "outputId": "8317fe98-9831-4a5a-ac3f-f3f096121b26"
      },
      "execution_count": 21,
      "outputs": [
        {
          "output_type": "stream",
          "name": "stdout",
          "text": [
            "Error: The key 'email' does not exist in the dictionary.\n"
          ]
        }
      ]
    },
    {
      "cell_type": "code",
      "source": [
        "# How would you check if a file exists before attempting to read it in Python?\n",
        "import os  # Removed the extra indentation\n",
        "\n",
        "file_path = 'example.txt'\n",
        "\n",
        "if os.path.exists(file_path):\n",
        "    with open(file_path, 'r') as file:\n",
        "        content = file.read()\n",
        "        print(\"File content:\\n\", content)\n",
        "else:\n",
        "    print(f\"The file '{file_path}' does not exist.\")"
      ],
      "metadata": {
        "colab": {
          "base_uri": "https://localhost:8080/"
        },
        "id": "7ldg5sA-Z8Za",
        "outputId": "730c788d-e9d8-46b3-9b02-83df4a298e12"
      },
      "execution_count": 30,
      "outputs": [
        {
          "output_type": "stream",
          "name": "stdout",
          "text": [
            "File content:\n",
            " Hello, world!\n",
            "Appended text goes here.New data to append\n"
          ]
        }
      ]
    },
    {
      "cell_type": "code",
      "source": [
        "# Write a program that uses the logging module to log both informational and error messages.\n",
        "import logging\n",
        "\n",
        "# Configure logging\n",
        "logging.basicConfig(\n",
        "    filename='app.log',              # Log file name\n",
        "    level=logging.DEBUG,             # Minimum logging level\n",
        "    format='%(asctime)s - %(levelname)s - %(message)s'\n",
        ")\n",
        "\n",
        "# Log an informational message\n",
        "logging.info(\"Program started.\")\n",
        "\n",
        "try:\n",
        "    # Sample operation\n",
        "    num1 = 10\n",
        "    num2 = 0\n",
        "    result = num1 / num2  # This will raise ZeroDivisionError\n",
        "    logging.info(f\"Result: {result}\")\n",
        "\n",
        "except ZeroDivisionError as e:\n",
        "    logging.error(\"Attempted to divide by zero. Error: %s\", e)\n",
        "\n",
        "except Exception as e:\n",
        "    logging.error(\"An unexpected error occurred: %s\", e)\n",
        "\n",
        "finally:\n",
        "    logging.info(\"Program ended.\")"
      ],
      "metadata": {
        "colab": {
          "base_uri": "https://localhost:8080/"
        },
        "id": "_jcfuEd0aPGx",
        "outputId": "42f76768-c2c0-4d0d-be43-fa474915462e"
      },
      "execution_count": 32,
      "outputs": [
        {
          "output_type": "stream",
          "name": "stderr",
          "text": [
            "ERROR:root:Attempted to divide by zero. Error: division by zero\n"
          ]
        }
      ]
    },
    {
      "cell_type": "code",
      "source": [
        "# Write a Python program that prints the content of a file and handles the case when the file is empty.\n",
        "def print_file_content(filename): # Removed extra indentation (two spaces)\n",
        "    try:\n",
        "        with open(filename, 'r') as file:\n",
        "            content = file.read()\n",
        "            if content.strip() == '':\n",
        "                print(f\"The file '{filename}' is empty.\")\n",
        "            else:\n",
        "                print(f\"Content of '{filename}':\\n\")\n",
        "                print(content)\n",
        "    except FileNotFoundError:\n",
        "        print(f\"Error: The file '{filename}' was not found.\")\n",
        "    except Exception as e:\n",
        "        print(f\"An error occurred: {e}\")\n",
        "\n",
        "# Example usage\n",
        "print_file_content('example.txt')"
      ],
      "metadata": {
        "colab": {
          "base_uri": "https://localhost:8080/"
        },
        "id": "OcdXLkzKajKV",
        "outputId": "716084dc-946f-4f82-e0ae-995aafa8dda4"
      },
      "execution_count": 34,
      "outputs": [
        {
          "output_type": "stream",
          "name": "stdout",
          "text": [
            "Content of 'example.txt':\n",
            "\n",
            "Hello, world!\n",
            "Appended text goes here.New data to append\n"
          ]
        }
      ]
    },
    {
      "cell_type": "code",
      "source": [
        "# Write a Python program that prints the content of a file and handles the case when the file is empty.\n",
        "def print_file_content(filename): # Removed extra indentation (two spaces)\n",
        "    try:\n",
        "        with open(filename, 'r') as file:\n",
        "            content = file.read()\n",
        "            if content.strip() == '':\n",
        "                print(f\"The file '{filename}' is empty.\")\n",
        "            else:\n",
        "                print(f\"Content of '{filename}':\\n\")\n",
        "                print(content)\n",
        "    except FileNotFoundError:\n",
        "        print(f\"Error: The file '{filename}' was not found.\")\n",
        "    except Exception as e:\n",
        "        print(f\"An error occurred: {e}\")\n",
        "\n",
        "# Example usage\n",
        "print_file_content('example.txt')"
      ],
      "metadata": {
        "colab": {
          "base_uri": "https://localhost:8080/"
        },
        "id": "-6lv5M8-bKmr",
        "outputId": "0748abf6-6427-42f4-e15f-ceadc81f8de2"
      },
      "execution_count": 36,
      "outputs": [
        {
          "output_type": "stream",
          "name": "stdout",
          "text": [
            "Content of 'example.txt':\n",
            "\n",
            "Hello, world!\n",
            "Appended text goes here.New data to append\n"
          ]
        }
      ]
    },
    {
      "cell_type": "code",
      "source": [
        "# Write a Python program to create and write a list of numbers to a file, one number per line.\n",
        " # List of numbers to write\n",
        "numbers = [10, 20, 30, 40, 50]\n",
        "\n",
        "# File to write to\n",
        "filename = 'numbers.txt'\n",
        "\n",
        "try:\n",
        "    # Open file in write mode\n",
        "    with open(filename, 'w') as file:\n",
        "        for number in numbers:\n",
        "            file.write(f\"{number}\\n\")  # Write each number on a new line\n",
        "\n",
        "    print(f\"Successfully wrote {len(numbers)} numbers to '{filename}'.\")\n",
        "\n",
        "except Exception as e:\n",
        "    print(f\"An error occurred: {e}\")\n"
      ],
      "metadata": {
        "colab": {
          "base_uri": "https://localhost:8080/"
        },
        "id": "RzmE6-YMbyOu",
        "outputId": "9d034664-40f3-4a38-cdaa-37bdeafbc83a"
      },
      "execution_count": 38,
      "outputs": [
        {
          "output_type": "stream",
          "name": "stdout",
          "text": [
            "Successfully wrote 5 numbers to 'numbers.txt'.\n"
          ]
        }
      ]
    },
    {
      "cell_type": "code",
      "source": [
        "# Write a program that handles both IndexError and KeyError using a try-except block.\n",
        "def handle_index_and_key_errors(): # Removed the extra space before 'def'\n",
        "    my_list = [10, 20, 30]\n",
        "    my_dict = {'a': 1, 'b': 2}\n",
        "\n",
        "    try:\n",
        "        # Attempting to access an invalid list index\n",
        "        print(\"List item at index 5:\", my_list[5])\n",
        "\n",
        "        # Attempting to access a missing key in the dictionary\n",
        "        print(\"Value for key 'z':\", my_dict['z'])\n",
        "\n",
        "    except IndexError:\n",
        "        print(\"IndexError: Tried to access an index that doesn't exist in the list.\")\n",
        "\n",
        "    except KeyError:\n",
        "        print(\"KeyError: Tried to access a key that doesn't exist in the dictionary.\")\n",
        "\n",
        "    except Exception as e:\n",
        "        print(f\"An unexpected error occurred: {e}\")\n",
        "\n",
        "# Run the function\n",
        "handle_index_and_key_errors()"
      ],
      "metadata": {
        "colab": {
          "base_uri": "https://localhost:8080/"
        },
        "id": "s2NY9EVYdQSR",
        "outputId": "0eee70ed-239c-4209-a965-7efe5732b097"
      },
      "execution_count": 42,
      "outputs": [
        {
          "output_type": "stream",
          "name": "stdout",
          "text": [
            "IndexError: Tried to access an index that doesn't exist in the list.\n"
          ]
        }
      ]
    },
    {
      "cell_type": "code",
      "source": [
        "# How would you open a file and read its contents using a context manager in Python?\n",
        " # Open and read the contents of a file using a context manager\n",
        "with open('example.txt', 'r') as file:\n",
        "    content = file.read()\n",
        "    print(content)\n"
      ],
      "metadata": {
        "colab": {
          "base_uri": "https://localhost:8080/"
        },
        "id": "XCxb4D_3dZsV",
        "outputId": "ce4c8ed9-df03-490f-8bd7-5b21abd2fd25"
      },
      "execution_count": 43,
      "outputs": [
        {
          "output_type": "stream",
          "name": "stdout",
          "text": [
            "Hello, world!\n",
            "Appended text goes here.New data to append\n"
          ]
        }
      ]
    },
    {
      "cell_type": "code",
      "source": [
        "# Write a Python program that reads a file and prints the number of occurrences of a specific word.\n",
        "def count_word_occurrences(filename, word_to_count):\n",
        "    try:\n",
        "        with open(filename, 'r') as file:\n",
        "            content = file.read().lower()  # Read and convert to lowercase for case-insensitive matching\n",
        "            word_count = content.split().count(word_to_count.lower())\n",
        "            print(f\"The word '{word_to_count}' appears {word_count} times in '{filename}'.\")\n",
        "    except FileNotFoundError:\n",
        "        print(f\"Error: The file '{filename}' was not found.\")\n",
        "    except Exception as e:\n",
        "        print(f\"An error occurred: {e}\")\n",
        "\n",
        "# Example usage\n",
        "count_word_occurrences('example.txt', 'python')"
      ],
      "metadata": {
        "colab": {
          "base_uri": "https://localhost:8080/"
        },
        "id": "UJklLAFqd_s3",
        "outputId": "fd851d7e-1d53-4144-ee28-9576bfd4c188"
      },
      "execution_count": 45,
      "outputs": [
        {
          "output_type": "stream",
          "name": "stdout",
          "text": [
            "The word 'python' appears 0 times in 'example.txt'.\n"
          ]
        }
      ]
    },
    {
      "cell_type": "code",
      "source": [
        "# How can you check if a file is empty before attempting to read its contents?\n",
        "import os\n",
        "\n",
        "file_path = 'example.txt'\n",
        "\n",
        "if os.path.exists(file_path) and os.path.getsize(file_path) == 0:\n",
        "    print(f\"The file '{file_path}' is empty.\")\n",
        "else:\n",
        "    with open(file_path, 'r') as file:\n",
        "        content = file.read()\n",
        "        print(\"File content:\\n\", content)"
      ],
      "metadata": {
        "colab": {
          "base_uri": "https://localhost:8080/"
        },
        "id": "a_hmZsYEeF9J",
        "outputId": "4726eb7a-0785-4c7e-c341-d15e9206d307"
      },
      "execution_count": 47,
      "outputs": [
        {
          "output_type": "stream",
          "name": "stdout",
          "text": [
            "File content:\n",
            " Hello, world!\n",
            "Appended text goes here.New data to append\n"
          ]
        }
      ]
    },
    {
      "cell_type": "code",
      "source": [
        "# Write a Python program that writes to a log file when an error occurs during file handling.\n",
        "import logging\n",
        "\n",
        "# Set up logging to log errors to a file\n",
        "logging.basicConfig(\n",
        "    filename='file_errors.log',\n",
        "    level=logging.ERROR,\n",
        "    format='%(asctime)s - %(levelname)s - %(message)s'\n",
        ")\n",
        "\n",
        "def read_file(filename):\n",
        "    try:\n",
        "        with open(filename, 'r') as file:\n",
        "            content = file.read()\n",
        "            print(\"File content:\\n\", content)\n",
        "\n",
        "    except FileNotFoundError as e:\n",
        "        logging.error(f\"File not found: {filename} - {e}\")\n",
        "        print(f\"Error: The file '{filename}' was not found.\")\n",
        "\n",
        "    except IOError as e:\n",
        "        logging.error(f\"I/O error when handling file '{filename}': {e}\")\n",
        "        print(f\"Error: An I/O error occurred while handling the file.\")\n",
        "\n",
        "    except Exception as e:\n",
        "        logging.error(f\"Unexpected error with file '{filename}': {e}\")\n",
        "        print(f\"An unexpected error occurred.\")\n",
        "\n",
        "# Example usage\n",
        "read_file('nonexistent_file.txt')"
      ],
      "metadata": {
        "colab": {
          "base_uri": "https://localhost:8080/"
        },
        "id": "25NruuP5eZRd",
        "outputId": "3bb8afde-4169-47b7-a8e7-7c73de7aabb2"
      },
      "execution_count": 51,
      "outputs": [
        {
          "output_type": "stream",
          "name": "stderr",
          "text": [
            "ERROR:root:File not found: nonexistent_file.txt - [Errno 2] No such file or directory: 'nonexistent_file.txt'\n"
          ]
        },
        {
          "output_type": "stream",
          "name": "stdout",
          "text": [
            "Error: The file 'nonexistent_file.txt' was not found.\n"
          ]
        }
      ]
    },
    {
      "cell_type": "code",
      "source": [],
      "metadata": {
        "id": "ekB7g4Z7etKH"
      },
      "execution_count": null,
      "outputs": []
    }
  ]
}